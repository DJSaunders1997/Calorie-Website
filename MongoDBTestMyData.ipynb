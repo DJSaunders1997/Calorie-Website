{
 "metadata": {
  "language_info": {
   "codemirror_mode": {
    "name": "ipython",
    "version": 3
   },
   "file_extension": ".py",
   "mimetype": "text/x-python",
   "name": "python",
   "nbconvert_exporter": "python",
   "pygments_lexer": "ipython3",
   "version": "3.8.4"
  },
  "orig_nbformat": 2,
  "kernelspec": {
   "name": "python38432bite89bfbd354db462cbaa1c98f000e7faa",
   "display_name": "Python 3.8.4 32-bit"
  },
  "metadata": {
   "interpreter": {
    "hash": "b5e75a83031c47d26eadaa6659553da968025cb8ff532d4fed9f735096575a28"
   }
  }
 },
 "nbformat": 4,
 "nbformat_minor": 2,
 "cells": [
  {
   "source": [
    "# Mongo DB\n",
    "\n",
    "This notebook will contain tests of me trying to use mongodb for the first time\n",
    "\n",
    "Start off following this tutorial: https://www.mongodb.com/blog/post/getting-started-with-python-and-mongodb"
   ],
   "cell_type": "markdown",
   "metadata": {}
  },
  {
   "cell_type": "code",
   "execution_count": 1,
   "metadata": {},
   "outputs": [],
   "source": [
    "from pymongo import MongoClient\n",
    "# pprint library is used to make the output look more pretty\n",
    "from pprint import pprint\n"
   ]
  },
  {
   "cell_type": "code",
   "execution_count": 2,
   "metadata": {},
   "outputs": [
    {
     "output_type": "stream",
     "name": "stdout",
     "text": [
      "750\nadding 100 calories\n850\n"
     ]
    }
   ],
   "source": [
    "import DBConModule\n",
    "\n",
    "print(DBConModule.get_daily_total('Dave'))\n",
    "\n",
    "print('adding 100 calories')\n",
    "DBConModule.add_calories('Dave',100)\n",
    "\n",
    "print(DBConModule.get_daily_total('Dave'))"
   ]
  },
  {
   "cell_type": "code",
   "execution_count": null,
   "metadata": {},
   "outputs": [],
   "source": []
  },
  {
   "cell_type": "code",
   "execution_count": null,
   "metadata": {},
   "outputs": [],
   "source": []
  },
  {
   "cell_type": "code",
   "execution_count": 12,
   "metadata": {},
   "outputs": [
    {
     "output_type": "execute_result",
     "data": {
      "text/plain": [
       "dict"
      ]
     },
     "metadata": {},
     "execution_count": 12
    }
   ],
   "source": [
    "dict = {\n",
    "    \"person1\":{\n",
    "        \"name\":\"Dave\",\n",
    "        \"target\": 2000,\n",
    "        \"calories\": [\n",
    "            {\"timestamp\": \"2021-04-18 09:00\", \"calories\": 200},\n",
    "            {\"timestamp\": \"2021-04-18 14:00\", \"calories\": 700},\n",
    "            {\"timestamp\": \"2021-04-18 21:00\", \"calories\": 1200},\n",
    "            {\"timestamp\": \"2021-04-19 09:30\", \"calories\": 400},\n",
    "            {\"timestamp\": \"2021-04-18 12:00\", \"calories\": 1200}\n",
    "        ]\n",
    "    },\n",
    "    \"person2\":{\n",
    "        \"name\":\"Meg\",\n",
    "        \"target\": 1800,\n",
    "        \"calories\": [\n",
    "            {\"timestamp\": \"2021-04-18 08:00\", \"calories\": 500},\n",
    "            {\"timestamp\": \"2021-04-18 16:00\", \"calories\": 700},\n",
    "            {\"timestamp\": \"2021-04-18 23:00\", \"calories\": 1700},\n",
    "            {\"timestamp\": \"2021-04-19 10:30\", \"calories\": 100},\n",
    "            {\"timestamp\": \"2021-04-18 18:00\", \"calories\": 100}\n",
    "        ]\n",
    "    }\n",
    "}\n",
    "\n",
    "type(dict[\"person1\"])"
   ]
  },
  {
   "cell_type": "code",
   "execution_count": 72,
   "metadata": {},
   "outputs": [
    {
     "output_type": "stream",
     "name": "stdout",
     "text": [
      "<class 'dict'>\n<class 'dict'>\n<class 'dict'>\n"
     ]
    }
   ],
   "source": [
    "dave_dict = {\n",
    "        \"name\":\"Dave\",\n",
    "        \"target\": 2000,\n",
    "        \"calorie_events\": [\n",
    "            {\"timestamp\": \"2021-04-18 09:00\", \"calories\": 200},\n",
    "            {\"timestamp\": \"2021-04-18 14:00\", \"calories\": 700},\n",
    "            {\"timestamp\": \"2021-04-18 21:00\", \"calories\": 1200},\n",
    "            {\"timestamp\": \"2021-04-19 09:30\", \"calories\": 400},\n",
    "            {\"timestamp\": \"2021-04-18 12:00\", \"calories\": 1200}\n",
    "        ]\n",
    "    }\n",
    "print(type(dave_dict))\n",
    "\n",
    "meg_dict = {\n",
    "        \"name\":\"Meg\",\n",
    "        \"target\": 1800,\n",
    "        \"calorie_events\": [\n",
    "            {\"timestamp\": \"2021-04-18 08:00\", \"calories\": 500},\n",
    "            {\"timestamp\": \"2021-04-18 16:00\", \"calories\": 700},\n",
    "            {\"timestamp\": \"2021-04-18 23:00\", \"calories\": 1700},\n",
    "            {\"timestamp\": \"2021-04-19 10:30\", \"calories\": 100},\n",
    "            {\"timestamp\": \"2021-04-18 18:00\", \"calories\": 100}\n",
    "        ]\n",
    "    }\n",
    "\n",
    "print(type(meg_dict))\n",
    "\n",
    "jac_dict = {\n",
    "        \"name\":\"Jac\",\n",
    "        \"target\": 2100,\n",
    "        \"calorie_events\": [\n",
    "            {\"timestamp\": \"2021-04-18 02:00\", \"calories\": 80},\n",
    "            {\"timestamp\": \"2021-04-18 15:00\", \"calories\": 70},\n",
    "            {\"timestamp\": \"2021-04-18 21:00\", \"calories\": 1980},\n",
    "            {\"timestamp\": \"2021-04-19 13:30\", \"calories\": 900},\n",
    "            {\"timestamp\": \"2021-04-18 16:00\", \"calories\": 440}\n",
    "        ]\n",
    "    }\n",
    "\n",
    "print(type(jac_dict))"
   ]
  },
  {
   "cell_type": "code",
   "execution_count": 74,
   "metadata": {},
   "outputs": [
    {
     "output_type": "execute_result",
     "data": {
      "text/plain": [
       "<pymongo.results.DeleteResult at 0x857b568>"
      ]
     },
     "metadata": {},
     "execution_count": 74
    }
   ],
   "source": [
    "db.People.delete_one( {\"name\":\"Dave\"} )\n",
    "\n",
    "db.People.delete_many( {} ) # Empty filter will delete all documents in collection"
   ]
  },
  {
   "cell_type": "code",
   "execution_count": 75,
   "metadata": {
    "tags": []
   },
   "outputs": [
    {
     "output_type": "stream",
     "name": "stdout",
     "text": [
      "6081506d8d0447eb07655e6b\n6081506d8d0447eb07655e6c\n6081506d8d0447eb07655e6d\n"
     ]
    }
   ],
   "source": [
    "# createsamples.py\n",
    "\n",
    "result=db.People.insert_one(dave_dict)\n",
    "print(result.inserted_id)\n",
    "\n",
    "result=db.People.insert_one(meg_dict)\n",
    "print(result.inserted_id)\n",
    "\n",
    "result=db.People.insert_one(jac_dict)\n",
    "print(result.inserted_id)"
   ]
  },
  {
   "cell_type": "code",
   "execution_count": 51,
   "metadata": {},
   "outputs": [
    {
     "output_type": "execute_result",
     "data": {
      "text/plain": [
       "{'_id': ObjectId('60814d3d8d0447eb07655e68'),\n",
       " 'name': 'Dave',\n",
       " 'target': 2000,\n",
       " 'calorie_events': [{'timestamp': '2021-04-18 09:00', 'calories': 200},\n",
       "  {'timestamp': '2021-04-18 14:00', 'calories': 700},\n",
       "  {'timestamp': '2021-04-18 21:00', 'calories': 1200},\n",
       "  {'timestamp': '2021-04-19 09:30', 'calories': 400},\n",
       "  {'timestamp': '2021-04-18 12:00', 'calories': 1200}]}"
      ]
     },
     "metadata": {},
     "execution_count": 51
    }
   ],
   "source": [
    "# Query DATABASE\n",
    "\n",
    "dave_res = db.People.find_one({'name': 'Dave'}) # Returns as Dict\n",
    "dave_res"
   ]
  },
  {
   "cell_type": "code",
   "execution_count": 38,
   "metadata": {},
   "outputs": [
    {
     "output_type": "execute_result",
     "data": {
      "text/plain": [
       "[{'timestamp': '2021-04-18 09:00', 'calories': 200},\n",
       " {'timestamp': '2021-04-18 14:00', 'calories': 700},\n",
       " {'timestamp': '2021-04-18 21:00', 'calories': 1200},\n",
       " {'timestamp': '2021-04-19 09:30', 'calories': 400},\n",
       " {'timestamp': '2021-04-18 12:00', 'calories': 1200},\n",
       " {'timestamp': '2021-04-18 19:00', 'calories': 300},\n",
       " {'timestamp': '2021-04-18 19:00', 'calories': 300},\n",
       " {'timestamp': '2021-04-18 19:00', 'calories': 300}]"
      ]
     },
     "metadata": {},
     "execution_count": 38
    }
   ],
   "source": [
    "# Testing how we can Add new calories\n",
    "dave_res['calories'].append({'timestamp': '2021-04-18 19:00', 'calories': 300})\n",
    "dave_res['calories']"
   ]
  },
  {
   "cell_type": "code",
   "execution_count": 55,
   "metadata": {},
   "outputs": [
    {
     "output_type": "stream",
     "name": "stdout",
     "text": [
      "2021-04-22 11:22:29.373916\n"
     ]
    }
   ],
   "source": [
    "# Get current datetime\n",
    "from datetime import datetime\n",
    "print(datetime.now() )"
   ]
  },
  {
   "cell_type": "code",
   "execution_count": 70,
   "metadata": {},
   "outputs": [
    {
     "output_type": "execute_result",
     "data": {
      "text/plain": [
       "'2021-04-22 11:26:55'"
      ]
     },
     "metadata": {},
     "execution_count": 70
    }
   ],
   "source": []
  },
  {
   "cell_type": "code",
   "execution_count": 68,
   "metadata": {},
   "outputs": [
    {
     "output_type": "stream",
     "name": "stdout",
     "text": [
      "2018-09-05 00:00:00\n"
     ]
    }
   ],
   "source": [
    "x = datetime(2018, 9, 5)\n",
    "\n",
    "print(x.strftime(\"%Y-%m-%d %H:%M:%S\"))"
   ]
  },
  {
   "cell_type": "code",
   "execution_count": 88,
   "metadata": {},
   "outputs": [
    {
     "output_type": "execute_result",
     "data": {
      "text/plain": [
       "<pymongo.results.UpdateResult at 0x4a331a8>"
      ]
     },
     "metadata": {},
     "execution_count": 88
    }
   ],
   "source": [
    "current_time = datetime.now().strftime(\"%Y-%m-%d %H:%M:%S\") # In format like '2021-04-22 11:26:55'\n",
    "calories_to_add = 150\n",
    "\n",
    "new_calories_event = {'timestamp': current_time, 'calories': calories_to_add}\n",
    "\n",
    "# TODO Get current timestamp in similar format, \n",
    "\n",
    "# This query finds the record/document with the name \"Dave\" then uses the $push command to append a new calories item to the calories array\n",
    "# That item is a dict comprising of a timestamp and a number of calories\n",
    "db.People.update_one( {'name':'Dave'}, {'$push' : {'calorie_events': new_calories_event} } )"
   ]
  },
  {
   "cell_type": "code",
   "execution_count": 89,
   "metadata": {},
   "outputs": [],
   "source": [
    "# How to delete one item from the list if we want to\n",
    "# db.People.update_one( {'name':'Dave'}, {'$pull' : {'calorie_events': new_calories_event} } )"
   ]
  },
  {
   "cell_type": "code",
   "execution_count": 7,
   "metadata": {},
   "outputs": [
    {
     "output_type": "stream",
     "name": "stdout",
     "text": [
      "The number of 5 star reviews:\n",
      "197\n",
      "\n",
      "The sum of each rating occurance across all data grouped by rating \n",
      "{'_id': 1, 'count': 199}\n",
      "{'_id': 2, 'count': 198}\n",
      "{'_id': 3, 'count': 197}\n",
      "{'_id': 4, 'count': 209}\n",
      "{'_id': 5, 'count': 197}\n",
      "<ipython-input-7-9b1ba9e2e31b>:10: DeprecationWarning: count is deprecated. Use Collection.count_documents instead.\n",
      "  fivestarcount = db.reviews.find({'rating': 5}).count()\n"
     ]
    }
   ],
   "source": [
    "# TODO: Understand this so we can query for total calories daily their end not our end\n",
    "# Run multiple queries at once with MongoDB aggregation pipelines\n",
    "\n",
    "stargroup=db.reviews.aggregate(\n",
    "# The Aggregation Pipeline is defined as an array of different operations\n",
    "[\n",
    "# The first stage in this pipe is to group data\n",
    "{ '$group':\n",
    "    { '_id': \"$rating\",\n",
    "     \"count\" : \n",
    "                 { '$sum' :1 }\n",
    "    }\n",
    "},\n",
    "# The second stage in this pipe is to sort the data\n",
    "{\"$sort\":  { \"_id\":1}\n",
    "}\n",
    "# Close the array with the ] tag             \n",
    "] )\n",
    "# Print the result\n",
    "for group in stargroup:\n",
    "    print(group)"
   ]
  },
  {
   "cell_type": "code",
   "execution_count": 81,
   "metadata": {},
   "outputs": [
    {
     "output_type": "execute_result",
     "data": {
      "text/plain": [
       "{'_id': ObjectId('6081506d8d0447eb07655e6b'),\n",
       " 'name': 'Dave',\n",
       " 'target': 2000,\n",
       " 'calorie_events': [{'timestamp': '2021-04-18 09:00', 'calories': 200},\n",
       "  {'timestamp': '2021-04-18 14:00', 'calories': 700},\n",
       "  {'timestamp': '2021-04-18 21:00', 'calories': 1200},\n",
       "  {'timestamp': '2021-04-19 09:30', 'calories': 400},\n",
       "  {'timestamp': '2021-04-18 12:00', 'calories': 1200},\n",
       "  {'timestamp': '2021-04-22 11:32:05', 'calorie_events': 150}]}"
      ]
     },
     "metadata": {},
     "execution_count": 81
    }
   ],
   "source": [
    "# Calculate how many Calories Dave has todat\n",
    "# Will need to use for the query_calories() function\n",
    "\n",
    "dave_doc = db.People.find_one( {'name':'Dave'} )\n",
    "dave_doc"
   ]
  },
  {
   "cell_type": "code",
   "execution_count": 91,
   "metadata": {},
   "outputs": [
    {
     "output_type": "execute_result",
     "data": {
      "text/plain": [
       "[{'timestamp': '2021-04-18 09:00', 'calories': 200},\n",
       " {'timestamp': '2021-04-18 14:00', 'calories': 700},\n",
       " {'timestamp': '2021-04-18 21:00', 'calories': 1200},\n",
       " {'timestamp': '2021-04-19 09:30', 'calories': 400},\n",
       " {'timestamp': '2021-04-18 12:00', 'calories': 1200},\n",
       " {'timestamp': '2021-04-22 11:32:05', 'calorie_events': 150}]"
      ]
     },
     "metadata": {},
     "execution_count": 91
    }
   ],
   "source": [
    "dave_doc['calorie_events']"
   ]
  },
  {
   "cell_type": "code",
   "execution_count": null,
   "metadata": {},
   "outputs": [],
   "source": []
  },
  {
   "cell_type": "code",
   "execution_count": 150,
   "metadata": {},
   "outputs": [
    {
     "output_type": "execute_result",
     "data": {
      "text/plain": [
       "True"
      ]
     },
     "metadata": {},
     "execution_count": 150
    }
   ],
   "source": []
  },
  {
   "cell_type": "code",
   "execution_count": 148,
   "metadata": {},
   "outputs": [
    {
     "output_type": "execute_result",
     "data": {
      "text/plain": [
       "True"
      ]
     },
     "metadata": {},
     "execution_count": 148
    }
   ],
   "source": [
    "    x = db.People.update_one( {'name':'Jac'}, {'$push' : {'calorie_events': new_calories_event} } )\n",
    "    x.acknowledged"
   ]
  },
  {
   "cell_type": "code",
   "execution_count": 105,
   "metadata": {},
   "outputs": [
    {
     "output_type": "execute_result",
     "data": {
      "text/plain": [
       "{'_id': ObjectId('6081506d8d0447eb07655e6b'),\n",
       " 'name': 'Dave',\n",
       " 'target': 2000,\n",
       " 'calorie_events': [{'timestamp': '2021-04-18 09:00', 'calories': 200},\n",
       "  {'timestamp': '2021-04-18 14:00', 'calories': 700},\n",
       "  {'timestamp': '2021-04-18 21:00', 'calories': 1200},\n",
       "  {'timestamp': '2021-04-19 09:30', 'calories': 400},\n",
       "  {'timestamp': '2021-04-18 12:00', 'calories': 1200},\n",
       "  {'timestamp': '2021-04-22 11:40:40', 'calories': 150}]}"
      ]
     },
     "metadata": {},
     "execution_count": 105
    }
   ],
   "source": [
    "dave_doc = db.People.find_one( {\"$and\": [{\"calorie_events.timestamp\": {\"$regex\": \"2021-04-22\"} }, {\"name\": \"Dave\"} ]} )\n",
    "dave_doc"
   ]
  },
  {
   "cell_type": "code",
   "execution_count": 120,
   "metadata": {},
   "outputs": [
    {
     "output_type": "execute_result",
     "data": {
      "text/plain": [
       "{'_id': ObjectId('6081506d8d0447eb07655e6b'),\n",
       " 'name': 'Dave',\n",
       " 'target': 2000,\n",
       " 'calorie_events': [{'timestamp': '2021-04-18 09:00', 'calories': 200},\n",
       "  {'timestamp': '2021-04-18 14:00', 'calories': 700},\n",
       "  {'timestamp': '2021-04-18 21:00', 'calories': 1200},\n",
       "  {'timestamp': '2021-04-19 09:30', 'calories': 400},\n",
       "  {'timestamp': '2021-04-18 12:00', 'calories': 1200},\n",
       "  {'timestamp': '2021-04-22 11:40:40', 'calories': 150}]}"
      ]
     },
     "metadata": {},
     "execution_count": 120
    }
   ],
   "source": [
    "# Pracitse querying array\n",
    "\n",
    "cursor = db.People.find({\"calorie_events.calories\":150})\n",
    "#cursor = db.People.find({})\n",
    "cursor[0]"
   ]
  },
  {
   "cell_type": "code",
   "execution_count": 127,
   "metadata": {},
   "outputs": [
    {
     "output_type": "execute_result",
     "data": {
      "text/plain": [
       "[{'timestamp': '2021-04-18 09:00', 'calories': 200},\n",
       " {'timestamp': '2021-04-18 14:00', 'calories': 700},\n",
       " {'timestamp': '2021-04-18 21:00', 'calories': 1200},\n",
       " {'timestamp': '2021-04-19 09:30', 'calories': 400},\n",
       " {'timestamp': '2021-04-18 12:00', 'calories': 1200},\n",
       " {'timestamp': '2021-04-22 11:32:05', 'calorie_events': 150}]"
      ]
     },
     "metadata": {},
     "execution_count": 127
    }
   ],
   "source": [
    "events = dave_res['calorie_events']\n",
    "events"
   ]
  },
  {
   "cell_type": "code",
   "execution_count": 137,
   "metadata": {},
   "outputs": [
    {
     "output_type": "execute_result",
     "data": {
      "text/plain": [
       "3300"
      ]
     },
     "metadata": {},
     "execution_count": 137
    }
   ],
   "source": [
    "total = 0\n",
    "\n",
    "for event in events:\n",
    "    if '2021-04-18' in event['timestamp']:\n",
    "        total = total + event['calories']\n",
    "\n",
    "total"
   ]
  },
  {
   "cell_type": "code",
   "execution_count": 134,
   "metadata": {},
   "outputs": [
    {
     "output_type": "error",
     "ename": "TypeError",
     "evalue": "argument of type 'int' is not iterable",
     "traceback": [
      "\u001b[1;31m---------------------------------------------------------------------------\u001b[0m",
      "\u001b[1;31mTypeError\u001b[0m                                 Traceback (most recent call last)",
      "\u001b[1;32m<ipython-input-134-6e06a63ca653>\u001b[0m in \u001b[0;36m<module>\u001b[1;34m\u001b[0m\n\u001b[1;32m----> 1\u001b[1;33m \u001b[0mnext\u001b[0m\u001b[1;33m(\u001b[0m\u001b[0mitem\u001b[0m \u001b[1;32mfor\u001b[0m \u001b[0mitem\u001b[0m \u001b[1;32min\u001b[0m \u001b[0mevents\u001b[0m \u001b[1;32mif\u001b[0m \u001b[1;34m'2021-04-18'\u001b[0m \u001b[1;32min\u001b[0m \u001b[0mitem\u001b[0m\u001b[1;33m[\u001b[0m\u001b[1;34m'calories'\u001b[0m\u001b[1;33m]\u001b[0m\u001b[1;33m)\u001b[0m\u001b[1;33m\u001b[0m\u001b[1;33m\u001b[0m\u001b[0m\n\u001b[0m",
      "\u001b[1;32m<ipython-input-134-6e06a63ca653>\u001b[0m in \u001b[0;36m<genexpr>\u001b[1;34m(.0)\u001b[0m\n\u001b[1;32m----> 1\u001b[1;33m \u001b[0mnext\u001b[0m\u001b[1;33m(\u001b[0m\u001b[0mitem\u001b[0m \u001b[1;32mfor\u001b[0m \u001b[0mitem\u001b[0m \u001b[1;32min\u001b[0m \u001b[0mevents\u001b[0m \u001b[1;32mif\u001b[0m \u001b[1;34m'2021-04-18'\u001b[0m \u001b[1;32min\u001b[0m \u001b[0mitem\u001b[0m\u001b[1;33m[\u001b[0m\u001b[1;34m'calories'\u001b[0m\u001b[1;33m]\u001b[0m\u001b[1;33m)\u001b[0m\u001b[1;33m\u001b[0m\u001b[1;33m\u001b[0m\u001b[0m\n\u001b[0m",
      "\u001b[1;31mTypeError\u001b[0m: argument of type 'int' is not iterable"
     ]
    }
   ],
   "source": [
    "next(item for item in events if '2021-04-18' in item['calories'])"
   ]
  }
 ]
}